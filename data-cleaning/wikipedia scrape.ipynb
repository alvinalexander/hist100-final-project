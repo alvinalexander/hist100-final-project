{
 "cells": [
  {
   "cell_type": "code",
   "execution_count": 1,
   "metadata": {
    "collapsed": false
   },
   "outputs": [
    {
     "data": {
      "text/plain": [
       "['Jay Z',\n",
       " 'Jay Z albums discography',\n",
       " 'Renegade (Jay Z song)',\n",
       " \"Jockin' Jay-Z (Dopeboy Fresh)\",\n",
       " 'On the Run Tour (Beyoncé and Jay Z)',\n",
       " 'The Black Album (Jay-Z album)',\n",
       " 'Kingdom Come (Jay-Z album)',\n",
       " 'Holy Grail (Jay Z song)',\n",
       " 'MTV Unplugged (Jay-Z album)',\n",
       " 'Heaven (Jay Z song)']"
      ]
     },
     "execution_count": 1,
     "metadata": {},
     "output_type": "execute_result"
    }
   ],
   "source": [
    "import wikipedia\n",
    "from bs4 import BeautifulSoup\n",
    "from lxml import html\n",
    "import requests\n",
    "\n"
   ]
  },
  {
   "cell_type": "code",
   "execution_count": 2,
   "metadata": {
    "collapsed": true
   },
   "outputs": [],
   "source": [
    "rapper = wikipedia.page(\"Jay Z\")"
   ]
  },
  {
   "cell_type": "code",
   "execution_count": 12,
   "metadata": {
    "collapsed": false
   },
   "outputs": [
    {
     "data": {
      "text/plain": [
       "'https://en.wikipedia.org/wiki/Jay_Z'"
      ]
     },
     "execution_count": 12,
     "metadata": {},
     "output_type": "execute_result"
    }
   ],
   "source": [
    "page_url = rapper.url\n",
    "\n",
    "page = requests.get(page_url)\n",
    "html = BeautifulSoup(page.text, \"html.parser\")\n",
    "    \n",
    "#at least Genius is nice and has a tag called 'lyrics'!\n",
    "city = html.find(\"lyrics\").get_text()"
   ]
  },
  {
   "cell_type": "code",
   "execution_count": null,
   "metadata": {
    "collapsed": true
   },
   "outputs": [],
   "source": []
  }
 ],
 "metadata": {
  "kernelspec": {
   "display_name": "Python [default]",
   "language": "python",
   "name": "python3"
  },
  "language_info": {
   "codemirror_mode": {
    "name": "ipython",
    "version": 3
   },
   "file_extension": ".py",
   "mimetype": "text/x-python",
   "name": "python",
   "nbconvert_exporter": "python",
   "pygments_lexer": "ipython3",
   "version": "3.5.2"
  }
 },
 "nbformat": 4,
 "nbformat_minor": 1
}
